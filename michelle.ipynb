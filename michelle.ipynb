{
 "cells": [
  {
   "cell_type": "markdown",
   "metadata": {},
   "source": [
    "## 3 Different Parts to Dask\n",
    "### 1) Dask Collections (\"core-library\")\n",
    "    - High-level collections: mimic NumPy, lists, and pandas, but can operate in parallel on datasets that don't fit into memory\n",
    "        - Array\n",
    "        - Bag\n",
    "        - DataFrame\n",
    "\n",
    "    -Low-level collections: give you finer control in building custom parallel and distributed computations\n",
    "        - Delayed\n",
    "        - Futures\n",
    "\n",
    "### 2) Dask Cluster\n",
    "    ![image]()"
   ]
  },
  {
   "cell_type": "code",
   "execution_count": null,
   "metadata": {},
   "outputs": [],
   "source": []
  }
 ],
 "metadata": {
  "kernelspec": {
   "display_name": "Python 3.10.5 ('eds-217')",
   "language": "python",
   "name": "python3"
  },
  "language_info": {
   "name": "python",
   "version": "3.10.5"
  },
  "orig_nbformat": 4,
  "vscode": {
   "interpreter": {
    "hash": "61c9d78bad92851a86cb88281d9017ac04daac7f608160631e3d306152a59962"
   }
  }
 },
 "nbformat": 4,
 "nbformat_minor": 2
}
