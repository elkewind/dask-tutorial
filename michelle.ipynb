{
 "cells": [
  {
   "cell_type": "markdown",
   "metadata": {},
   "source": [
    "## 3 Different Parts to the Dask project\n",
    "### 1. Dask Collections (\"core-library\")\n",
    "- **High-level collections**: mimic NumPy, lists, and pandas, but can operate in parallel on datasets that don't fit into memory\n",
    "    - Array\n",
    "    - Bag\n",
    "    - DataFrame\n",
    "- **Low-level collections**: give you finer control in building custom parallel and distributed computations\n",
    "    - Delayed\n",
    "    - Futures\n",
    "\n",
    "### 2. Dask Cluster\n",
    "Dask uses a distributed scheduler, which exists in the context of a Dask cluster.\n",
    "\n",
    "Structure of a dask cluster:\n",
    "\n",
    "<img src=\"./dask_cluster_img.png\" width = \"600\"/>\n",
    "\n",
    "citation: https://tutorial.dask.org/00_overview.html\n",
    "\n",
    "### 3. Dask Ecosystem\n",
    "The Dask ecosystem connects several adiitional open source projects that provide different mechanisms for deploying Dask clusters. \n",
    "\n",
    "**This tutorial will focus on using the high-level collection of DataFrame.**\n"
   ]
  },
  {
   "cell_type": "markdown",
   "metadata": {},
   "source": []
  },
  {
   "cell_type": "code",
   "execution_count": 11,
   "metadata": {},
   "outputs": [
    {
     "name": "stdout",
     "output_type": "stream",
     "text": [
      "dd.Scalar<series-..., dtype=float64>\n",
      "<bound method DataFrame.info of Dask DataFrame Structure:\n",
      "              survey_id site_id species_id distance bird_count    notes   seen  heard direction bird_count_add\n",
      "npartitions=1                                                                                                 \n",
      "                  int64  object     object   object      int64  float64  int64  int64    object          int64\n",
      "                    ...     ...        ...      ...        ...      ...    ...    ...       ...            ...\n",
      "Dask Name: assign, 4 tasks>\n",
      "<bound method DataFrame.info of Dask DataFrame Structure:\n",
      "              survey_id site_id species_id distance bird_count    notes   seen  heard direction bird_count_add seen_new\n",
      "npartitions=1                                                                                                          \n",
      "                  int64  object     object   object      int64  float64  int64  int64    object          int64    int64\n",
      "                    ...     ...        ...      ...        ...      ...    ...    ...       ...            ...      ...\n",
      "Dask Name: assign, 6 tasks>\n"
     ]
    }
   ],
   "source": [
    "import dask.dataframe as dd\n",
    "import pandas as pd\n",
    "\n",
    "url = 'https://portal.edirepository.org/nis/dataviewer?packageid=knb-lter-cap.256.10&entityid=53edaa7a0e083013d9bf20322db1780e'\n",
    "birds_dask = dd.read_csv(url)\n",
    "\n",
    "birds_dask.shape\n",
    "\n",
    "#create small subset of data (first 50 rows) in Dask\n",
    "small_birds_dask = birds_dask.loc[:50]\n",
    "\n",
    "#find the mean of a column in Dask\n",
    "print(birds_dask.bird_count.mean())\n",
    "\n",
    "#add a column to the dask data frame\n",
    "birds_dask['bird_count_add'] = birds_dask.bird_count + 1\n",
    "print(birds_dask.info)\n",
    "\n",
    "#applying functions - create a new column that calculates the seen to heard ratio of birds\n",
    "def seen_calc(seen):\n",
    "    \"\"\" Multiplies the seen value by 100\n",
    "    \n",
    "    Parameters\n",
    "    ----------\n",
    "        seen : float\n",
    "            Number of birds seen\n",
    "       \n",
    "    Returns\n",
    "    -------\n",
    "        seen_new : float\n",
    "            Number of birds seen times 100\n",
    "    \"\"\"\n",
    "    seen_new = (seen * 100)\n",
    "    return seen_new\n",
    "\n",
    "birds_dask['seen_new'] = birds_dask.seen\n",
    "birds_dask.seen.apply(seen_calc, meta=('seen', 'int64'))\n",
    "print(birds_dask.info)\n",
    "\n"
   ]
  },
  {
   "cell_type": "markdown",
   "metadata": {},
   "source": []
  }
 ],
 "metadata": {
  "kernelspec": {
   "display_name": "Python 3.10.5 ('eds-217')",
   "language": "python",
   "name": "python3"
  },
  "language_info": {
   "codemirror_mode": {
    "name": "ipython",
    "version": 3
   },
   "file_extension": ".py",
   "mimetype": "text/x-python",
   "name": "python",
   "nbconvert_exporter": "python",
   "pygments_lexer": "ipython3",
   "version": "3.10.5"
  },
  "orig_nbformat": 4,
  "vscode": {
   "interpreter": {
    "hash": "61c9d78bad92851a86cb88281d9017ac04daac7f608160631e3d306152a59962"
   }
  }
 },
 "nbformat": 4,
 "nbformat_minor": 2
}
